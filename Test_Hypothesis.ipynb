{
 "cells": [
  {
   "cell_type": "markdown",
   "metadata": {
    "id": "EeoJPP0uVEdB"
   },
   "source": [
    "# Introduction"
   ]
  },
  {
   "cell_type": "markdown",
   "metadata": {},
   "source": [
    "Studying of machine learning, AI and data science, statistics concepts have been always my elefant in the room.This notebook's main objective is to play arround some of those concepts, simulating a statistical inference process.\n",
    "We will run a process called $hypothesis$ $testing$.\n",
    "The process will be devided in these steps.\n",
    "\n",
    "- Collect Data\n",
    "- Formulate Null and Alternative and null hypothesis\n",
    "- Define our Significance Level\n",
    "- Create a model to fit observed data to a function\n",
    "- Define confidence levels\n",
    "- Verify our Null or Alternate hypothesis\n",
    "\n",
    "I will evaluate how confinement measures affect the growth of infections in each country in the context of the Covid-19 pandemic, during the initial exponential infections wave.\n",
    "We assume that the initial infections of an outbreak follow an exponential pattern.\n",
    "\n",
    "First, will take the data about the early evolution of the disease in Brazil, which was characterized by having a policy of free circulation, then I will compare this same evolution to China, which, on the contrary, had a super restrictive policy.\n",
    "Then, will classify different countries based on their lockdown policies.\n",
    "\n",
    "The hypothesis that I want to demonstrate (our $null$ $hypothesis$) is that the confinement policy tends to significantly flatten the rate of infections and deaths during the initial phase of a pandemic.\n",
    "\n",
    "In order to do that we will calculate a coefficient ($k$) that messures the level of infectivity at the early days of a pandemic outbreak."
   ]
  },
  {
   "cell_type": "markdown",
   "metadata": {},
   "source": [
    "# Glossary"
   ]
  },
  {
   "cell_type": "markdown",
   "metadata": {},
   "source": [
    "There are some important statistical concepts that we need to be aware of before running below code.\n",
    "\n",
    "$k$ $number$: Describes the  exponential growth of a desease in the early stages of an epidemic. (see https://en.wikipedia.org/wiki/Basic_reproduction_number)\n",
    "\n",
    "$Least$ $square$: The least squares method is a statistical procedure to find the best fit for a set of data points by minimizing the sum of the offsets or residuals of points from the plotted curve.\n",
    "Least squares regression is used to predict the behavior of dependent variables.\n",
    "The least squares method provides the overall rationale for the placement of the line of best fit among the data points being studied.\n",
    "\n",
    "$Exponential$ $growth$: is a process that increases quantity over time. It occurs when the instantaneous rate of change (that is, the derivative) of a quantity with respect to time is proportional to the quantity itself.\n",
    "\n",
    "$Confidence$ $interval$: displays the probability that a parameter will fall between a pair of values around the mean.\n",
    "Confidence intervals measure the degree of uncertainty or certainty in a sampling method.\n",
    "They are most often constructed using confidence levels of 95% or 99%.\n",
    "\n",
    "$scipy.optimize.curve$_$fit$: Uses non-linear least squares to fit a function, f, to data. It returns two values: $popt$  Optimal values for the parameters so that the sum of the squared error is minimized, and $pcov$,  the estimated covariance of popt. The diagonals provide the variance of the parameter estimate.\n",
    "\n",
    "$Hypothesis$ $testing$: Hypothesis testing is a form of statistical inference that uses data from a sample to draw conclusions about a population parameter or a population probability distribution. First, a tentative assumption is made about the parameter or distribution. This assumption is called the null hypothesis and is denoted by $H(0)$. An alternative hypothesis (denoted $H(a)$), which is the opposite of what is stated in the null hypothesis, is then defined. The hypothesis-testing procedure involves using sample data to determine whether or not $H(0)$ can be rejected. If $H(0)$ is rejected, the statistical conclusion is that the alternative hypothesis $H(a)$ is true.\n",
    "\n",
    "$Bootstrap$  method is a statistical technique for estimating quantities about a population by averaging estimates from multiple small data samples.\n",
    "\n",
    "Importantly, samples are constructed by drawing observations from a large data sample one at a time and returning them to the data sample after they have been chosen.\n",
    "\n",
    "$T-test$: type of inferential statistic used to determine if there is a significant difference between the means of two groups, which may be related in certain features. It is mostly used when the data sets, like the data set recorded as the outcome from flipping a coin 100 times, would follow a normal distribution and may have unknown variances. A t-test is used as a hypothesis testing tool, which allows testing of an assumption applicable to a population.\n",
    "\n",
    "$Significance$ $level$: also known as alpha or α, is a measure of the strength of the evidence that must be present in your sample before you will reject the null hypothesis and conclude that the effect is statistically significant. The researcher determines the significance level before conducting the experiment.\n",
    "The significance level is the probability of rejecting the null hypothesis when it is true. For example, a significance level of 0.05 indicates a 5% risk of concluding that a difference exists when there is no actual difference. Lower significance levels indicate that you require stronger evidence before you will reject the null hypothesis.\n",
    "\n",
    "Use significance levels during hypothesis testing to help you determine which hypothesis the data support. Compare your p-value to your significance level. If the p-value is less than your significance level, you can reject the null hypothesis and conclude that the effect is statistically significant. In other words, the evidence in your sample is strong enough to be able to reject the null hypothesis at the population level.\n",
    "\n",
    "$Sources: Wikipedia, Investopedia, Britannica, statisticsbyjim.com$"
   ]
  },
  {
   "cell_type": "code",
   "execution_count": 22,
   "metadata": {},
   "outputs": [],
   "source": [
    "import numpy as np\n",
    "import pandas as pd\n",
    "import pylab as plt\n",
    "import seaborn as sns\n",
    "#from google.colab import drive\n",
    "from scipy.optimize import curve_fit\n",
    "from statistics import stdev\n",
    "from scipy.stats import sem\n",
    "import math\n",
    "import statistics\n",
    "from scipy import stats"
   ]
  },
  {
   "cell_type": "code",
   "execution_count": 23,
   "metadata": {
    "colab": {
     "base_uri": "https://localhost:8080/",
     "height": 424
    },
    "id": "xvuX_32HXxK0",
    "outputId": "39742517-30e2-4d78-cba0-78a57ca57a07"
   },
   "outputs": [
    {
     "data": {
      "text/html": [
       "<div>\n",
       "<style scoped>\n",
       "    .dataframe tbody tr th:only-of-type {\n",
       "        vertical-align: middle;\n",
       "    }\n",
       "\n",
       "    .dataframe tbody tr th {\n",
       "        vertical-align: top;\n",
       "    }\n",
       "\n",
       "    .dataframe thead th {\n",
       "        text-align: right;\n",
       "    }\n",
       "</style>\n",
       "<table border=\"1\" class=\"dataframe\">\n",
       "  <thead>\n",
       "    <tr style=\"text-align: right;\">\n",
       "      <th></th>\n",
       "      <th>iso_code</th>\n",
       "      <th>continent</th>\n",
       "      <th>location</th>\n",
       "      <th>date</th>\n",
       "      <th>total_cases</th>\n",
       "      <th>new_cases</th>\n",
       "      <th>new_cases_smoothed</th>\n",
       "      <th>total_deaths</th>\n",
       "      <th>new_deaths</th>\n",
       "      <th>new_deaths_smoothed</th>\n",
       "      <th>...</th>\n",
       "      <th>female_smokers</th>\n",
       "      <th>male_smokers</th>\n",
       "      <th>handwashing_facilities</th>\n",
       "      <th>hospital_beds_per_thousand</th>\n",
       "      <th>life_expectancy</th>\n",
       "      <th>human_development_index</th>\n",
       "      <th>excess_mortality_cumulative_absolute</th>\n",
       "      <th>excess_mortality_cumulative</th>\n",
       "      <th>excess_mortality</th>\n",
       "      <th>excess_mortality_cumulative_per_million</th>\n",
       "    </tr>\n",
       "  </thead>\n",
       "  <tbody>\n",
       "    <tr>\n",
       "      <th>0</th>\n",
       "      <td>AFG</td>\n",
       "      <td>Asia</td>\n",
       "      <td>Afghanistan</td>\n",
       "      <td>2020-02-24</td>\n",
       "      <td>5.0</td>\n",
       "      <td>5.0</td>\n",
       "      <td>NaN</td>\n",
       "      <td>NaN</td>\n",
       "      <td>NaN</td>\n",
       "      <td>NaN</td>\n",
       "      <td>...</td>\n",
       "      <td>NaN</td>\n",
       "      <td>NaN</td>\n",
       "      <td>37.746</td>\n",
       "      <td>0.5</td>\n",
       "      <td>64.83</td>\n",
       "      <td>0.511</td>\n",
       "      <td>NaN</td>\n",
       "      <td>NaN</td>\n",
       "      <td>NaN</td>\n",
       "      <td>NaN</td>\n",
       "    </tr>\n",
       "    <tr>\n",
       "      <th>1</th>\n",
       "      <td>AFG</td>\n",
       "      <td>Asia</td>\n",
       "      <td>Afghanistan</td>\n",
       "      <td>2020-02-25</td>\n",
       "      <td>5.0</td>\n",
       "      <td>0.0</td>\n",
       "      <td>NaN</td>\n",
       "      <td>NaN</td>\n",
       "      <td>NaN</td>\n",
       "      <td>NaN</td>\n",
       "      <td>...</td>\n",
       "      <td>NaN</td>\n",
       "      <td>NaN</td>\n",
       "      <td>37.746</td>\n",
       "      <td>0.5</td>\n",
       "      <td>64.83</td>\n",
       "      <td>0.511</td>\n",
       "      <td>NaN</td>\n",
       "      <td>NaN</td>\n",
       "      <td>NaN</td>\n",
       "      <td>NaN</td>\n",
       "    </tr>\n",
       "    <tr>\n",
       "      <th>2</th>\n",
       "      <td>AFG</td>\n",
       "      <td>Asia</td>\n",
       "      <td>Afghanistan</td>\n",
       "      <td>2020-02-26</td>\n",
       "      <td>5.0</td>\n",
       "      <td>0.0</td>\n",
       "      <td>NaN</td>\n",
       "      <td>NaN</td>\n",
       "      <td>NaN</td>\n",
       "      <td>NaN</td>\n",
       "      <td>...</td>\n",
       "      <td>NaN</td>\n",
       "      <td>NaN</td>\n",
       "      <td>37.746</td>\n",
       "      <td>0.5</td>\n",
       "      <td>64.83</td>\n",
       "      <td>0.511</td>\n",
       "      <td>NaN</td>\n",
       "      <td>NaN</td>\n",
       "      <td>NaN</td>\n",
       "      <td>NaN</td>\n",
       "    </tr>\n",
       "    <tr>\n",
       "      <th>3</th>\n",
       "      <td>AFG</td>\n",
       "      <td>Asia</td>\n",
       "      <td>Afghanistan</td>\n",
       "      <td>2020-02-27</td>\n",
       "      <td>5.0</td>\n",
       "      <td>0.0</td>\n",
       "      <td>NaN</td>\n",
       "      <td>NaN</td>\n",
       "      <td>NaN</td>\n",
       "      <td>NaN</td>\n",
       "      <td>...</td>\n",
       "      <td>NaN</td>\n",
       "      <td>NaN</td>\n",
       "      <td>37.746</td>\n",
       "      <td>0.5</td>\n",
       "      <td>64.83</td>\n",
       "      <td>0.511</td>\n",
       "      <td>NaN</td>\n",
       "      <td>NaN</td>\n",
       "      <td>NaN</td>\n",
       "      <td>NaN</td>\n",
       "    </tr>\n",
       "    <tr>\n",
       "      <th>4</th>\n",
       "      <td>AFG</td>\n",
       "      <td>Asia</td>\n",
       "      <td>Afghanistan</td>\n",
       "      <td>2020-02-28</td>\n",
       "      <td>5.0</td>\n",
       "      <td>0.0</td>\n",
       "      <td>NaN</td>\n",
       "      <td>NaN</td>\n",
       "      <td>NaN</td>\n",
       "      <td>NaN</td>\n",
       "      <td>...</td>\n",
       "      <td>NaN</td>\n",
       "      <td>NaN</td>\n",
       "      <td>37.746</td>\n",
       "      <td>0.5</td>\n",
       "      <td>64.83</td>\n",
       "      <td>0.511</td>\n",
       "      <td>NaN</td>\n",
       "      <td>NaN</td>\n",
       "      <td>NaN</td>\n",
       "      <td>NaN</td>\n",
       "    </tr>\n",
       "    <tr>\n",
       "      <th>...</th>\n",
       "      <td>...</td>\n",
       "      <td>...</td>\n",
       "      <td>...</td>\n",
       "      <td>...</td>\n",
       "      <td>...</td>\n",
       "      <td>...</td>\n",
       "      <td>...</td>\n",
       "      <td>...</td>\n",
       "      <td>...</td>\n",
       "      <td>...</td>\n",
       "      <td>...</td>\n",
       "      <td>...</td>\n",
       "      <td>...</td>\n",
       "      <td>...</td>\n",
       "      <td>...</td>\n",
       "      <td>...</td>\n",
       "      <td>...</td>\n",
       "      <td>...</td>\n",
       "      <td>...</td>\n",
       "      <td>...</td>\n",
       "      <td>...</td>\n",
       "    </tr>\n",
       "    <tr>\n",
       "      <th>130595</th>\n",
       "      <td>ZWE</td>\n",
       "      <td>Africa</td>\n",
       "      <td>Zimbabwe</td>\n",
       "      <td>2021-10-29</td>\n",
       "      <td>132926.0</td>\n",
       "      <td>46.0</td>\n",
       "      <td>48.286</td>\n",
       "      <td>4675.0</td>\n",
       "      <td>0.0</td>\n",
       "      <td>1.714</td>\n",
       "      <td>...</td>\n",
       "      <td>1.6</td>\n",
       "      <td>30.7</td>\n",
       "      <td>36.791</td>\n",
       "      <td>1.7</td>\n",
       "      <td>61.49</td>\n",
       "      <td>0.571</td>\n",
       "      <td>NaN</td>\n",
       "      <td>NaN</td>\n",
       "      <td>NaN</td>\n",
       "      <td>NaN</td>\n",
       "    </tr>\n",
       "    <tr>\n",
       "      <th>130596</th>\n",
       "      <td>ZWE</td>\n",
       "      <td>Africa</td>\n",
       "      <td>Zimbabwe</td>\n",
       "      <td>2021-10-30</td>\n",
       "      <td>132926.0</td>\n",
       "      <td>0.0</td>\n",
       "      <td>48.286</td>\n",
       "      <td>4675.0</td>\n",
       "      <td>0.0</td>\n",
       "      <td>1.714</td>\n",
       "      <td>...</td>\n",
       "      <td>1.6</td>\n",
       "      <td>30.7</td>\n",
       "      <td>36.791</td>\n",
       "      <td>1.7</td>\n",
       "      <td>61.49</td>\n",
       "      <td>0.571</td>\n",
       "      <td>NaN</td>\n",
       "      <td>NaN</td>\n",
       "      <td>NaN</td>\n",
       "      <td>NaN</td>\n",
       "    </tr>\n",
       "    <tr>\n",
       "      <th>130597</th>\n",
       "      <td>ZWE</td>\n",
       "      <td>Africa</td>\n",
       "      <td>Zimbabwe</td>\n",
       "      <td>2021-10-31</td>\n",
       "      <td>132977.0</td>\n",
       "      <td>51.0</td>\n",
       "      <td>46.571</td>\n",
       "      <td>4678.0</td>\n",
       "      <td>3.0</td>\n",
       "      <td>1.286</td>\n",
       "      <td>...</td>\n",
       "      <td>1.6</td>\n",
       "      <td>30.7</td>\n",
       "      <td>36.791</td>\n",
       "      <td>1.7</td>\n",
       "      <td>61.49</td>\n",
       "      <td>0.571</td>\n",
       "      <td>NaN</td>\n",
       "      <td>NaN</td>\n",
       "      <td>NaN</td>\n",
       "      <td>NaN</td>\n",
       "    </tr>\n",
       "    <tr>\n",
       "      <th>130598</th>\n",
       "      <td>ZWE</td>\n",
       "      <td>Africa</td>\n",
       "      <td>Zimbabwe</td>\n",
       "      <td>2021-11-01</td>\n",
       "      <td>133007.0</td>\n",
       "      <td>30.0</td>\n",
       "      <td>45.571</td>\n",
       "      <td>4679.0</td>\n",
       "      <td>1.0</td>\n",
       "      <td>0.857</td>\n",
       "      <td>...</td>\n",
       "      <td>1.6</td>\n",
       "      <td>30.7</td>\n",
       "      <td>36.791</td>\n",
       "      <td>1.7</td>\n",
       "      <td>61.49</td>\n",
       "      <td>0.571</td>\n",
       "      <td>NaN</td>\n",
       "      <td>NaN</td>\n",
       "      <td>NaN</td>\n",
       "      <td>NaN</td>\n",
       "    </tr>\n",
       "    <tr>\n",
       "      <th>130599</th>\n",
       "      <td>ZWE</td>\n",
       "      <td>Africa</td>\n",
       "      <td>Zimbabwe</td>\n",
       "      <td>2021-11-02</td>\n",
       "      <td>133047.0</td>\n",
       "      <td>40.0</td>\n",
       "      <td>46.143</td>\n",
       "      <td>4683.0</td>\n",
       "      <td>4.0</td>\n",
       "      <td>1.286</td>\n",
       "      <td>...</td>\n",
       "      <td>1.6</td>\n",
       "      <td>30.7</td>\n",
       "      <td>36.791</td>\n",
       "      <td>1.7</td>\n",
       "      <td>61.49</td>\n",
       "      <td>0.571</td>\n",
       "      <td>NaN</td>\n",
       "      <td>NaN</td>\n",
       "      <td>NaN</td>\n",
       "      <td>NaN</td>\n",
       "    </tr>\n",
       "  </tbody>\n",
       "</table>\n",
       "<p>130600 rows × 65 columns</p>\n",
       "</div>"
      ],
      "text/plain": [
       "       iso_code continent     location        date  total_cases  new_cases  \\\n",
       "0           AFG      Asia  Afghanistan  2020-02-24          5.0        5.0   \n",
       "1           AFG      Asia  Afghanistan  2020-02-25          5.0        0.0   \n",
       "2           AFG      Asia  Afghanistan  2020-02-26          5.0        0.0   \n",
       "3           AFG      Asia  Afghanistan  2020-02-27          5.0        0.0   \n",
       "4           AFG      Asia  Afghanistan  2020-02-28          5.0        0.0   \n",
       "...         ...       ...          ...         ...          ...        ...   \n",
       "130595      ZWE    Africa     Zimbabwe  2021-10-29     132926.0       46.0   \n",
       "130596      ZWE    Africa     Zimbabwe  2021-10-30     132926.0        0.0   \n",
       "130597      ZWE    Africa     Zimbabwe  2021-10-31     132977.0       51.0   \n",
       "130598      ZWE    Africa     Zimbabwe  2021-11-01     133007.0       30.0   \n",
       "130599      ZWE    Africa     Zimbabwe  2021-11-02     133047.0       40.0   \n",
       "\n",
       "        new_cases_smoothed  total_deaths  new_deaths  new_deaths_smoothed  \\\n",
       "0                      NaN           NaN         NaN                  NaN   \n",
       "1                      NaN           NaN         NaN                  NaN   \n",
       "2                      NaN           NaN         NaN                  NaN   \n",
       "3                      NaN           NaN         NaN                  NaN   \n",
       "4                      NaN           NaN         NaN                  NaN   \n",
       "...                    ...           ...         ...                  ...   \n",
       "130595              48.286        4675.0         0.0                1.714   \n",
       "130596              48.286        4675.0         0.0                1.714   \n",
       "130597              46.571        4678.0         3.0                1.286   \n",
       "130598              45.571        4679.0         1.0                0.857   \n",
       "130599              46.143        4683.0         4.0                1.286   \n",
       "\n",
       "        ...  female_smokers  male_smokers  handwashing_facilities  \\\n",
       "0       ...             NaN           NaN                  37.746   \n",
       "1       ...             NaN           NaN                  37.746   \n",
       "2       ...             NaN           NaN                  37.746   \n",
       "3       ...             NaN           NaN                  37.746   \n",
       "4       ...             NaN           NaN                  37.746   \n",
       "...     ...             ...           ...                     ...   \n",
       "130595  ...             1.6          30.7                  36.791   \n",
       "130596  ...             1.6          30.7                  36.791   \n",
       "130597  ...             1.6          30.7                  36.791   \n",
       "130598  ...             1.6          30.7                  36.791   \n",
       "130599  ...             1.6          30.7                  36.791   \n",
       "\n",
       "        hospital_beds_per_thousand  life_expectancy  human_development_index  \\\n",
       "0                              0.5            64.83                    0.511   \n",
       "1                              0.5            64.83                    0.511   \n",
       "2                              0.5            64.83                    0.511   \n",
       "3                              0.5            64.83                    0.511   \n",
       "4                              0.5            64.83                    0.511   \n",
       "...                            ...              ...                      ...   \n",
       "130595                         1.7            61.49                    0.571   \n",
       "130596                         1.7            61.49                    0.571   \n",
       "130597                         1.7            61.49                    0.571   \n",
       "130598                         1.7            61.49                    0.571   \n",
       "130599                         1.7            61.49                    0.571   \n",
       "\n",
       "        excess_mortality_cumulative_absolute  excess_mortality_cumulative  \\\n",
       "0                                        NaN                          NaN   \n",
       "1                                        NaN                          NaN   \n",
       "2                                        NaN                          NaN   \n",
       "3                                        NaN                          NaN   \n",
       "4                                        NaN                          NaN   \n",
       "...                                      ...                          ...   \n",
       "130595                                   NaN                          NaN   \n",
       "130596                                   NaN                          NaN   \n",
       "130597                                   NaN                          NaN   \n",
       "130598                                   NaN                          NaN   \n",
       "130599                                   NaN                          NaN   \n",
       "\n",
       "        excess_mortality  excess_mortality_cumulative_per_million  \n",
       "0                    NaN                                      NaN  \n",
       "1                    NaN                                      NaN  \n",
       "2                    NaN                                      NaN  \n",
       "3                    NaN                                      NaN  \n",
       "4                    NaN                                      NaN  \n",
       "...                  ...                                      ...  \n",
       "130595               NaN                                      NaN  \n",
       "130596               NaN                                      NaN  \n",
       "130597               NaN                                      NaN  \n",
       "130598               NaN                                      NaN  \n",
       "130599               NaN                                      NaN  \n",
       "\n",
       "[130600 rows x 65 columns]"
      ]
     },
     "execution_count": 23,
     "metadata": {},
     "output_type": "execute_result"
    }
   ],
   "source": [
    "data=pd.read_csv('datos_covid.csv')\n",
    "data"
   ]
  },
  {
   "cell_type": "code",
   "execution_count": 24,
   "metadata": {
    "id": "avKRmQzGYiMV"
   },
   "outputs": [],
   "source": [
    "countries=data['location']\n",
    "confirmed=data['total_cases']"
   ]
  },
  {
   "cell_type": "code",
   "execution_count": 25,
   "metadata": {
    "id": "L4b5BB9lfyTQ"
   },
   "outputs": [],
   "source": [
    "#exponencial fit\n",
    "def exponential(t,k,t0):\n",
    "  C=np.exp(k*(t-t0))\n",
    "  return C"
   ]
  },
  {
   "cell_type": "markdown",
   "metadata": {},
   "source": [
    "https://www.youtube.com/watch?v=Kas0tIxDvrg"
   ]
  },
  {
   "cell_type": "markdown",
   "metadata": {},
   "source": [
    "# Data Preparation"
   ]
  },
  {
   "cell_type": "markdown",
   "metadata": {},
   "source": [
    "Will start removing not used columns"
   ]
  },
  {
   "cell_type": "code",
   "execution_count": 26,
   "metadata": {},
   "outputs": [],
   "source": [
    "data.drop(columns=['iso_code','new_cases_smoothed','new_deaths_smoothed','new_cases_smoothed_per_million','new_deaths_smoothed_per_million','weekly_icu_admissions','weekly_icu_admissions_per_million','weekly_hosp_admissions','weekly_hosp_admissions_per_million','new_tests','total_tests','total_tests_per_thousand','new_tests_per_thousand','new_tests_smoothed','new_tests_smoothed_per_thousand','positive_rate','tests_per_case','tests_units','total_vaccinations','people_vaccinated','people_fully_vaccinated','total_boosters','new_vaccinations','new_vaccinations_smoothed','total_vaccinations_per_hundred','people_vaccinated_per_hundred','people_fully_vaccinated_per_hundred','total_boosters_per_hundred','new_vaccinations_smoothed_per_million','stringency_index','population','population_density','median_age','aged_65_older','aged_70_older','gdp_per_capita','extreme_poverty','cardiovasc_death_rate','diabetes_prevalence','female_smokers','male_smokers','handwashing_facilities','hospital_beds_per_thousand','life_expectancy','human_development_index','excess_mortality_cumulative_absolute','excess_mortality_cumulative','excess_mortality','excess_mortality_cumulative_per_million'],inplace=True)"
   ]
  },
  {
   "cell_type": "code",
   "execution_count": 27,
   "metadata": {},
   "outputs": [],
   "source": [
    "countries=data['location'] #cargo el vector de countries\n",
    "confirmed=data['total_cases'] #carga vector todos los casos confirmed\n",
    "new=data['new_cases']"
   ]
  },
  {
   "cell_type": "code",
   "execution_count": 28,
   "metadata": {},
   "outputs": [],
   "source": [
    "ind_bra=np.where(countries=='Brazil')\n",
    "ind_chi=np.where(countries=='China')"
   ]
  },
  {
   "cell_type": "code",
   "execution_count": 40,
   "metadata": {},
   "outputs": [
    {
     "data": {
      "text/plain": [
       "pandas.core.series.Series"
      ]
     },
     "execution_count": 40,
     "metadata": {},
     "output_type": "execute_result"
    }
   ],
   "source": [
    "type(countries)"
   ]
  },
  {
   "cell_type": "markdown",
   "metadata": {},
   "source": [
    "# Analysis"
   ]
  },
  {
   "cell_type": "markdown",
   "metadata": {},
   "source": [
    "Let's start with Brazil and China, who had opposite confinement policies"
   ]
  },
  {
   "cell_type": "code",
   "execution_count": 19,
   "metadata": {},
   "outputs": [],
   "source": [
    "ind_bra=np.where(countries=='Brazil')\n",
    "ind_chi=np.where(countries=='China')\n",
    "ind_bra=ind_bra[0]\n",
    "ind_chi=ind_chi[0]\n",
    "new_bra=new[ind_bra]\n",
    "new_chi=new[ind_chi]\n",
    "cases_bra=confirmed[ind_bra]\n",
    "cases_chi=confirmed[ind_chi]\n",
    "days_bra=np.arange(0,len(cases_bra))\n",
    "days_chi=np.arange(0,len(cases_chi))\n",
    "#days=np.arange(0,len(cases_bra))\n",
    "#plt.plot(days,cases_bra)\n",
    "#plt.xlabel('days')\n",
    "#plt.ylabel('cantidad de casos')"
   ]
  },
  {
   "cell_type": "code",
   "execution_count": 9,
   "metadata": {},
   "outputs": [
    {
     "data": {
      "image/png": "[encoded data removed]",
      "text/plain": [
       "<Figure size 720x720 with 2 Axes>"
      ]
     },
     "metadata": {
      "needs_background": "light"
     },
     "output_type": "display_data"
    }
   ],
   "source": [
    "fig, axs = plt.subplots(2,1,figsize=(10,10))\n",
    "plt.title('New Cases Brazil')\n",
    "axs[0].title.set_text('New Cases in Brazil')\n",
    "axs[0].plot(days_bra,new_bra)\n",
    "#axs[0].set_xlim(0, 2)\n",
    "axs[0].set_xlabel('days')\n",
    "axs[0].set_ylabel('new cases')\n",
    "\n",
    "plt.title('New Cases China')\n",
    "axs[0].grid(True)\n",
    "\n",
    "axs[1].plot(days_chi,new_chi)\n",
    "#cxy, f = axs[1].cohere(s1, s2, 256, 1. / dt)\n",
    "#axs[1].set_ylabel('coherence')\n",
    "\n",
    "#fig.tight_layout()\n",
    "plt.show()"
   ]
  },
  {
   "cell_type": "markdown",
   "metadata": {},
   "source": [
    "It does not require much analysis to realize that the difference between the new cases in Brazil and China is huge. \n",
    "China had exponential growth around day 40, but it dropped off sharply. Obviously, it is necessary to study the data more deeply and take samples from other countries to reach a conclusion. There could be other factors that determined the sharp drop in cases in China. Our next exercise consists of calculating the k-index for both countries, and then verifying if this index is similar to other countries with a similar quarantine policy. The k of exponential growth can be obtained using two algorithms: least squares and maximum likelihood (this article provides a good comparison of the two: https://support.minitab.com/en-us/minitab/18/help-and-how-to/modeling-statistics/reliability/supporting-topics/estimation-methods/least-squares-and-maximum-likelihood-estimation-methods/). In our case, and since we do not have a massive amount of data to justify otherwise, we are going to use the method of least squares."
   ]
  },
  {
   "cell_type": "code",
   "execution_count": 51,
   "metadata": {},
   "outputs": [
    {
     "data": {
      "text/plain": [
       "array([ 3.79846721e-02, -2.48818399e+02])"
      ]
     },
     "execution_count": 51,
     "metadata": {},
     "output_type": "execute_result"
    }
   ],
   "source": [
    "ind_bra=np.where(countries=='Brazil')\n",
    "ind_bra=ind_bra[0]\n",
    "cases_bra=confirmed[ind_bra]\n",
    "days=np.arange(0,len(cases_bra))\n",
    "start_cases=cases_bra[0:130]\n",
    "start_days=days[0:130]\n",
    "popt, pcov = curve_fit(exponential, start_days, start_cases,maxfev=1000)\n",
    "popt"
   ]
  },
  {
   "cell_type": "markdown",
   "metadata": {},
   "source": [
    "Let's see how the exponential growth of the beginning of the pandemic in both countries compares with the simulated growth that we obtain from their k value."
   ]
  },
  {
   "cell_type": "code",
   "execution_count": 11,
   "metadata": {},
   "outputs": [
    {
     "data": {
      "text/plain": [
       "[<matplotlib.lines.Line2D at 0x25ee4d7d7e0>]"
      ]
     },
     "execution_count": 11,
     "metadata": {},
     "output_type": "execute_result"
    },
    {
     "data": {
      "image/png": "[encoded data removed]",
      "text/plain": [
       "<Figure size 432x288 with 1 Axes>"
      ]
     },
     "metadata": {
      "needs_background": "light"
     },
     "output_type": "display_data"
    }
   ],
   "source": [
    "k=popt[0]\n",
    "t0=popt[1]\n",
    "cases_simu=exponential(start_days,k,t0)\n",
    "plt.title('Brasil - Case Growth vs. Simulated Exponential Growth')\n",
    "plt.xlabel('Day')\n",
    "plt.ylabel('Cases')\n",
    "plt.plot(start_days,start_cases,'.')\n",
    "plt.plot(start_days,cases_simu)"
   ]
  },
  {
   "cell_type": "code",
   "execution_count": 12,
   "metadata": {},
   "outputs": [
    {
     "data": {
      "text/plain": [
       "array([  0.14538686, -55.1068609 ])"
      ]
     },
     "execution_count": 12,
     "metadata": {},
     "output_type": "execute_result"
    }
   ],
   "source": [
    "ind_chi=np.where(countries=='China')\n",
    "ind_chi=ind_chi[0]\n",
    "cases_chi=confirmed[ind_chi]\n",
    "days=np.arange(0,len(cases_chi))\n",
    "start_cases=cases_chi[0:20]\n",
    "start_days=days[0:20]\n",
    "popt, pcov = curve_fit(exponential, start_days, start_cases,maxfev=700)\n",
    "popt"
   ]
  },
  {
   "cell_type": "code",
   "execution_count": 12,
   "metadata": {},
   "outputs": [
    {
     "name": "stdout",
     "output_type": "stream",
     "text": [
      "0.1453868584698689\n"
     ]
    },
    {
     "data": {
      "image/png": "[encoded data removed]",
      "text/plain": [
       "<Figure size 432x288 with 1 Axes>"
      ]
     },
     "metadata": {
      "needs_background": "light"
     },
     "output_type": "display_data"
    }
   ],
   "source": [
    "k=popt[0]\n",
    "t0=popt[1]\n",
    "cases_simu=exponential(start_days,k,t0)\n",
    "plt.title('China - Case Growth vs. Simulated Exponential Growth')\n",
    "plt.xlabel('Days')\n",
    "plt.ylabel('Cases')\n",
    "plt.plot(start_days,start_cases,'-.')\n",
    "plt.plot(start_days,cases_simu)\n",
    "print(k)"
   ]
  },
  {
   "cell_type": "markdown",
   "metadata": {},
   "source": [
    "We observe that the fit of the accumulated cases of Brazil strongly coincides with the simulation made using the k obtained during the first 120 days of the pandemic. While in the case of China this happens only in the first 20 days."
   ]
  },
  {
   "cell_type": "markdown",
   "metadata": {},
   "source": [
    "In other words, Brazil continues its explosive growth until at least day 120, when it stabilizes slightly and grows strongly again. Instead, China's exponential growth is concentrated in the first 20 days of the pandemic."
   ]
  },
  {
   "cell_type": "markdown",
   "metadata": {},
   "source": [
    "Before proceeding with generalizations, it would be advisable to know our confidence interval for the coefficients k obtained."
   ]
  },
  {
   "cell_type": "markdown",
   "metadata": {},
   "source": [
    "In the following exercise, we fit the data for Sweden and the UK, which are examples of countries whose lockdown measures were almost non-existent in the first phase and openly opted for so-called herd immunity. "
   ]
  },
  {
   "cell_type": "code",
   "execution_count": 177,
   "metadata": {},
   "outputs": [
    {
     "data": {
      "text/plain": [
       "array([ 2.35455440e-02, -3.26945016e+02])"
      ]
     },
     "execution_count": 177,
     "metadata": {},
     "output_type": "execute_result"
    }
   ],
   "source": [
    "ind_swe=np.where(countries=='Sweden')\n",
    "ind_swe=ind_swe[0]\n",
    "cases_swe=confirmed[ind_swe]\n",
    "days=np.arange(0,len(cases_swe))\n",
    "start_cases=cases_swe[0:150]\n",
    "start_days=days[0:150]\n",
    "popt, pcov = curve_fit(exponential, start_days, start_cases,maxfev=700)\n",
    "popt"
   ]
  },
  {
   "cell_type": "code",
   "execution_count": 178,
   "metadata": {},
   "outputs": [
    {
     "name": "stdout",
     "output_type": "stream",
     "text": [
      "0.023545544031377943\n"
     ]
    },
    {
     "data": {
      "image/png": "[encoded data removed]",
      "text/plain": [
       "<Figure size 432x288 with 1 Axes>"
      ]
     },
     "metadata": {
      "needs_background": "light"
     },
     "output_type": "display_data"
    }
   ],
   "source": [
    "k=popt[0]\n",
    "t0=popt[1]\n",
    "cases_simu=exponential(start_days,k,t0)\n",
    "plt.title('Seweden -  Cases Growth vs. Simulated Exponential Growth')\n",
    "plt.xlabel('Days')\n",
    "plt.ylabel('Cases')\n",
    "plt.plot(start_days,start_cases,'.')\n",
    "plt.plot(start_days,cases_simu)\n",
    "print(k)"
   ]
  },
  {
   "cell_type": "code",
   "execution_count": 179,
   "metadata": {},
   "outputs": [
    {
     "data": {
      "text/plain": [
       "array([ 1.41553648e-02, -7.51458287e+02])"
      ]
     },
     "execution_count": 179,
     "metadata": {},
     "output_type": "execute_result"
    }
   ],
   "source": [
    "ind_uk=np.where(countries=='United Kingdom')\n",
    "ind_uk=ind_uk[0]\n",
    "cases_uk=confirmed[ind_uk]\n",
    "days=np.arange(0,len(cases_uk))\n",
    "start_cases=cases_uk[50:150]\n",
    "start_days=days[50:150]\n",
    "popt, pcov = curve_fit(exponential, start_days, start_cases,maxfev=2000)\n",
    "popt"
   ]
  },
  {
   "cell_type": "code",
   "execution_count": 180,
   "metadata": {},
   "outputs": [
    {
     "name": "stdout",
     "output_type": "stream",
     "text": [
      "0.014155364812288278\n"
     ]
    },
    {
     "data": {
      "image/png": "[encoded data removed]",
      "text/plain": [
       "<Figure size 432x288 with 1 Axes>"
      ]
     },
     "metadata": {
      "needs_background": "light"
     },
     "output_type": "display_data"
    }
   ],
   "source": [
    "k=popt[0]\n",
    "t0=popt[1]\n",
    "plt.title('UK -  Cases Growth vs. Simulated Exponential Growth')\n",
    "cases_simu=exponential(start_days,k,t0)\n",
    "plt.plot(start_days,start_cases,'.')\n",
    "plt.plot(start_days,cases_simu)\n",
    "print(k)"
   ]
  },
  {
   "cell_type": "markdown",
   "metadata": {},
   "source": [
    "We observe that Sweden had a behavior similar to that of Brazil, although the real results do not fit the exponential simulation as strongly, between days 70 and 130 they seem to follow a linear pattern.\n",
    "\n",
    "Surprisingly, in the case of the UK, growth looks more like a logarithmic curve "
   ]
  },
  {
   "cell_type": "markdown",
   "metadata": {},
   "source": [
    "Now let's repeat the exercise with Laos, a country that follows the confinement policy of its neighbor China."
   ]
  },
  {
   "cell_type": "code",
   "execution_count": 15,
   "metadata": {},
   "outputs": [
    {
     "data": {
      "text/plain": [
       "array([  0.07247271, -21.87070167])"
      ]
     },
     "execution_count": 15,
     "metadata": {},
     "output_type": "execute_result"
    }
   ],
   "source": [
    "ind_lao=np.where(countries=='Laos')\n",
    "ind_lao=ind_lao[0]\n",
    "cases_lao=confirmed[ind_lao]\n",
    "days=np.arange(0,len(cases_lao))\n",
    "start_cases=cases_lao[0:20]\n",
    "start_days=days[0:20]\n",
    "popt, pcov = curve_fit(exponential, start_days, start_cases,maxfev=1000)\n",
    "popt"
   ]
  },
  {
   "cell_type": "code",
   "execution_count": 16,
   "metadata": {},
   "outputs": [
    {
     "data": {
      "text/plain": [
       "0.07247270785166691"
      ]
     },
     "execution_count": 16,
     "metadata": {},
     "output_type": "execute_result"
    },
    {
     "data": {
      "image/png": "[encoded data removed]",
      "text/plain": [
       "<Figure size 432x288 with 1 Axes>"
      ]
     },
     "metadata": {
      "needs_background": "light"
     },
     "output_type": "display_data"
    }
   ],
   "source": [
    "k=popt[0]\n",
    "t0=popt[1]\n",
    "cases_simu=exponential(start_days,k,t0)\n",
    "plt.title('Laos - Case Growth vs. Simulated Exponential Growth')\n",
    "plt.xlabel('days')\n",
    "plt.ylabel('Casos')\n",
    "plt.plot(start_days,start_cases,'-.')\n",
    "plt.plot(start_days,cases_simu)\n",
    "k"
   ]
  },
  {
   "cell_type": "markdown",
   "metadata": {},
   "source": [
    "Laos followed a draconian lockdown policy, like the one seen at the start of the pandemic in China. We observed that the growth of the disease had identical behavior. An exponential growth only the first 20 days, to remain on a plateau thereafter \n"
   ]
  },
  {
   "cell_type": "markdown",
   "metadata": {},
   "source": [
    "So, we observe that the coefficient k, in the cases that we analyze, is lower when the countries adopt a more aggressive confinement policy. And conversely, it grows when countries are more permissive regarding the free movement of their citizens. The following exercise calculates the k-value of various countries and compares them with the journalistic information that I was able to obtain regarding quarantine policies.\n",
    "In order to classify the countries in terms of the application of movement restriction measures, we are going to take the data from the following site: https://ourworldindata.org/grapher/covid-stringency-index?tab=table&time=2020-01-22..2021-12-05\n",
    "We assume for example that Brazil, UK and Sweden allowed free movement, China, Brunei and Laos on the other side, were very restrictive and US, Italy and Norway had a balanced position."
   ]
  },
  {
   "cell_type": "code",
   "execution_count": 118,
   "metadata": {},
   "outputs": [],
   "source": [
    "countries\n",
    "list1=[]\n",
    "list2=[]\n",
    "countries_uniq=countries.unique()\n",
    "#countries_uniq.remove('Africa')\n",
    "#lista.remove('Africa')\n",
    "countries_uniq=['China','United Kingdom','Brazil','Sweden','Laos','Italy','Norway','United States','Brunei','Japan','Singapore','Nigeria','Iran','Tanzania']"
   ]
  },
  {
   "cell_type": "code",
   "execution_count": 119,
   "metadata": {},
   "outputs": [],
   "source": [
    "for country in countries_uniq:\n",
    "    idx=np.where(countries==country)\n",
    "    idx=idx[0]\n",
    "    cases=confirmed[idx]\n",
    "    days=np.arange(0,len(cases))\n",
    "    start_cases=cases[0:150]\n",
    "    start_days=days[0:150]\n",
    "    popt, pcov = curve_fit(exponential, start_days, start_cases,maxfev=700)\n",
    "    k=popt[0]\n",
    "    list1.append(country)\n",
    "    list2.append(k)"
   ]
  },
  {
   "cell_type": "code",
   "execution_count": 120,
   "metadata": {},
   "outputs": [],
   "source": [
    "k_by_country=pd.DataFrame({'country':list1,'k':list2})"
   ]
  },
  {
   "cell_type": "code",
   "execution_count": 121,
   "metadata": {},
   "outputs": [
    {
     "data": {
      "text/html": [
       "<div>\n",
       "<style scoped>\n",
       "    .dataframe tbody tr th:only-of-type {\n",
       "        vertical-align: middle;\n",
       "    }\n",
       "\n",
       "    .dataframe tbody tr th {\n",
       "        vertical-align: top;\n",
       "    }\n",
       "\n",
       "    .dataframe thead th {\n",
       "        text-align: right;\n",
       "    }\n",
       "</style>\n",
       "<table border=\"1\" class=\"dataframe\">\n",
       "  <thead>\n",
       "    <tr style=\"text-align: right;\">\n",
       "      <th></th>\n",
       "      <th>country</th>\n",
       "      <th>k</th>\n",
       "    </tr>\n",
       "  </thead>\n",
       "  <tbody>\n",
       "    <tr>\n",
       "      <th>0</th>\n",
       "      <td>China</td>\n",
       "      <td>0.004287</td>\n",
       "    </tr>\n",
       "    <tr>\n",
       "      <th>1</th>\n",
       "      <td>United Kingdom</td>\n",
       "      <td>0.017703</td>\n",
       "    </tr>\n",
       "    <tr>\n",
       "      <th>2</th>\n",
       "      <td>Brazil</td>\n",
       "      <td>0.029825</td>\n",
       "    </tr>\n",
       "    <tr>\n",
       "      <th>3</th>\n",
       "      <td>Sweden</td>\n",
       "      <td>0.023546</td>\n",
       "    </tr>\n",
       "    <tr>\n",
       "      <th>4</th>\n",
       "      <td>Laos</td>\n",
       "      <td>0.002598</td>\n",
       "    </tr>\n",
       "    <tr>\n",
       "      <th>5</th>\n",
       "      <td>Italy</td>\n",
       "      <td>0.013373</td>\n",
       "    </tr>\n",
       "    <tr>\n",
       "      <th>6</th>\n",
       "      <td>Norway</td>\n",
       "      <td>0.007708</td>\n",
       "    </tr>\n",
       "    <tr>\n",
       "      <th>7</th>\n",
       "      <td>United States</td>\n",
       "      <td>0.022808</td>\n",
       "    </tr>\n",
       "    <tr>\n",
       "      <th>8</th>\n",
       "      <td>Brunei</td>\n",
       "      <td>0.002734</td>\n",
       "    </tr>\n",
       "    <tr>\n",
       "      <th>9</th>\n",
       "      <td>Japan</td>\n",
       "      <td>0.018310</td>\n",
       "    </tr>\n",
       "    <tr>\n",
       "      <th>10</th>\n",
       "      <td>Singapore</td>\n",
       "      <td>0.026409</td>\n",
       "    </tr>\n",
       "    <tr>\n",
       "      <th>11</th>\n",
       "      <td>Nigeria</td>\n",
       "      <td>0.027230</td>\n",
       "    </tr>\n",
       "    <tr>\n",
       "      <th>12</th>\n",
       "      <td>Iran</td>\n",
       "      <td>0.016234</td>\n",
       "    </tr>\n",
       "    <tr>\n",
       "      <th>13</th>\n",
       "      <td>Tanzania</td>\n",
       "      <td>0.007660</td>\n",
       "    </tr>\n",
       "  </tbody>\n",
       "</table>\n",
       "</div>"
      ],
      "text/plain": [
       "           country         k\n",
       "0            China  0.004287\n",
       "1   United Kingdom  0.017703\n",
       "2           Brazil  0.029825\n",
       "3           Sweden  0.023546\n",
       "4             Laos  0.002598\n",
       "5            Italy  0.013373\n",
       "6           Norway  0.007708\n",
       "7    United States  0.022808\n",
       "8           Brunei  0.002734\n",
       "9            Japan  0.018310\n",
       "10       Singapore  0.026409\n",
       "11         Nigeria  0.027230\n",
       "12            Iran  0.016234\n",
       "13        Tanzania  0.007660"
      ]
     },
     "execution_count": 121,
     "metadata": {},
     "output_type": "execute_result"
    }
   ],
   "source": [
    "k_by_country"
   ]
  },
  {
   "cell_type": "code",
   "execution_count": 122,
   "metadata": {},
   "outputs": [],
   "source": [
    "k_by_country.sort_values('k',inplace=True)"
   ]
  },
  {
   "cell_type": "markdown",
   "metadata": {},
   "source": [
    "I get the average k of my sample (I may need it in the hypothesis test) "
   ]
  },
  {
   "cell_type": "code",
   "execution_count": 123,
   "metadata": {},
   "outputs": [
    {
     "data": {
      "text/plain": [
       "0.015744557303194743"
      ]
     },
     "execution_count": 123,
     "metadata": {},
     "output_type": "execute_result"
    }
   ],
   "source": [
    "k_sample_mean=k_by_country.k.mean()\n",
    "k_sample_mean"
   ]
  },
  {
   "cell_type": "markdown",
   "metadata": {},
   "source": [
    "The following graph shows the k of the sample of countries chosen "
   ]
  },
  {
   "cell_type": "code",
   "execution_count": 124,
   "metadata": {},
   "outputs": [
    {
     "name": "stderr",
     "output_type": "stream",
     "text": [
      "C:\\Users\\jose.brunfman\\AppData\\Local\\Programs\\Python\\Python310\\lib\\site-packages\\seaborn\\_decorators.py:36: FutureWarning: Pass the following variables as keyword args: x, y. From version 0.12, the only valid positional argument will be `data`, and passing other arguments without an explicit keyword will result in an error or misinterpretation.\n",
      "  warnings.warn(\n"
     ]
    },
    {
     "data": {
      "image/png": "[encoded data removed]",
      "text/plain": [
       "<Figure size 1080x432 with 1 Axes>"
      ]
     },
     "metadata": {
      "needs_background": "light"
     },
     "output_type": "display_data"
    }
   ],
   "source": [
    "plt.figure(figsize = (15,6))\n",
    "plt.title('k by Country')\n",
    "sns.barplot(k_by_country.country,k_by_country.k,dodge=False);"
   ]
  },
  {
   "cell_type": "raw",
   "metadata": {},
   "source": [
    "Now, we get the average k of the countries that were restrictive (China, Laos, Singapore, Brunei, Norway) and those that were not (Sweden, Brazil, US, Nigeria, Italy, Japan) "
   ]
  },
  {
   "cell_type": "code",
   "execution_count": 125,
   "metadata": {},
   "outputs": [
    {
     "data": {
      "text/plain": [
       "0.00874708826504641"
      ]
     },
     "execution_count": 125,
     "metadata": {},
     "output_type": "execute_result"
    }
   ],
   "source": [
    "#Retrictivos\n",
    "countries\n",
    "list1=[]\n",
    "list2=[]\n",
    "countries_uniq=countries.unique()\n",
    "countries_uniq=['China','Laos','Norway','Brunei','Singapore']\n",
    "for country in countries_uniq:\n",
    "    idx=np.where(countries==country)\n",
    "    idx=idx[0]\n",
    "    cases=confirmed[idx]\n",
    "    days=np.arange(0,len(cases))\n",
    "    start_cases=cases[0:150]\n",
    "    start_days=days[0:150]\n",
    "    popt, pcov = curve_fit(exponential, start_days, start_cases,maxfev=700)\n",
    "    k=popt[0]\n",
    "    list1.append(country)\n",
    "    list2.append(k)\n",
    "k_by_country_cua=pd.DataFrame({'country':list1,'k':list2})\n",
    "k_cuarentena_mean=k_by_country_cua.k.mean()\n",
    "k_cuarentena_mean"
   ]
  },
  {
   "cell_type": "code",
   "execution_count": 126,
   "metadata": {},
   "outputs": [
    {
     "data": {
      "text/plain": [
       "0.023236938905863855"
      ]
     },
     "execution_count": 126,
     "metadata": {},
     "output_type": "execute_result"
    }
   ],
   "source": [
    "#Permisivos\n",
    "countries\n",
    "list1=[]\n",
    "list2=[]\n",
    "countries_uniq=countries.unique()\n",
    "countries_uniq=['United States','Brazil','Sweden','Japan','Nigeria','United Kingdom']\n",
    "for country in countries_uniq:\n",
    "    idx=np.where(countries==country)\n",
    "    idx=idx[0]\n",
    "    cases=confirmed[idx]\n",
    "    days=np.arange(0,len(cases))\n",
    "    start_cases=cases[0:150]\n",
    "    start_days=days[0:150]\n",
    "    popt, pcov = curve_fit(exponential, start_days, start_cases,maxfev=700)\n",
    "    k=popt[0]\n",
    "    list1.append(country)\n",
    "    list2.append(k)\n",
    "k_by_country_sincua=pd.DataFrame({'country':list1,'k':list2})\n",
    "k_sincuarentena_mean=k_by_country_sincua.k.mean()\n",
    "k_sincuarentena_mean"
   ]
  },
  {
   "cell_type": "code",
   "execution_count": 137,
   "metadata": {},
   "outputs": [
    {
     "name": "stdout",
     "output_type": "stream",
     "text": [
      "the average k of my sample is  0.015744557303194743\n",
      "The average k of strict quarenteen restriction countries is g 0.00874708826504641\n",
      "The average k of non-strict quarenteen restriction countries is  0.023236938905863855\n",
      "The average k non-strict quarenteen countries is  166.0  percent greater\n"
     ]
    }
   ],
   "source": [
    "print('the average k of my sample is ', k_sample_mean)\n",
    "print('The average k of strict quarenteen restriction countries is g', k_cuarentena_mean)\n",
    "print('The average k of non-strict quarenteen restriction countries is ', k_sincuarentena_mean)\n",
    "print('The average k non-strict quarenteen countries is ',round(((k_sincuarentena_mean-k_cuarentena_mean)/k_cuarentena_mean)*100,0),' percent greater')"
   ]
  },
  {
   "cell_type": "markdown",
   "metadata": {},
   "source": [
    "## Confidence Intervals  "
   ]
  },
  {
   "cell_type": "markdown",
   "metadata": {},
   "source": [
    " I was able to establish the k that would apply on average for countries with strict quarantine (0.00874), the next step is to establish confidence intervals for that value.\n",
    "\n",
    "Since we do not have population data (mean and standard deviation, normality of the distribution), we will use the bootstrapping method "
   ]
  },
  {
   "cell_type": "code",
   "execution_count": 17,
   "metadata": {},
   "outputs": [],
   "source": [
    "#Función para hacer remuestreo de los datos \n",
    "def resample(data):\n",
    "  resamp=np.zeros(len(data))\n",
    "  i=0\n",
    "  while i<len(data*1000000):\n",
    "    resamp[i]=data[np.random.randint(len(data))]\n",
    "    i=i+1\n",
    "\n",
    "  return resamp  \n"
   ]
  },
  {
   "cell_type": "code",
   "execution_count": 139,
   "metadata": {},
   "outputs": [
    {
     "data": {
      "image/png": "[encoded data removed]",
      "text/plain": [
       "<Figure size 432x288 with 1 Axes>"
      ]
     },
     "metadata": {
      "needs_background": "light"
     },
     "output_type": "display_data"
    }
   ],
   "source": [
    "#save multiple results for resamples of sample data\n",
    "data_rem=resample(k_by_country.k)\n",
    "plt.hist(data_rem);"
   ]
  },
  {
   "cell_type": "code",
   "execution_count": 130,
   "metadata": {},
   "outputs": [
    {
     "name": "stdout",
     "output_type": "stream",
     "text": [
      "0.017209739532826875\n",
      "Confidence Interval is  0.026962768082300744 0.0025981075488244604\n"
     ]
    }
   ],
   "source": [
    "mu_resamp=np.mean(data_rem)\n",
    "print(mu_resamp)\n",
    "print('Confidence Interval is ',np.quantile(data_rem,0.975),np.quantile(data_rem,0.025))"
   ]
  },
  {
   "cell_type": "markdown",
   "metadata": {},
   "source": [
    "## Hypothesis Test "
   ]
  },
  {
   "cell_type": "markdown",
   "metadata": {},
   "source": [
    "We are in a position to submit our statement to a hypothesis test. For that, I am going to apply the T-test method."
   ]
  },
  {
   "cell_type": "code",
   "execution_count": 131,
   "metadata": {},
   "outputs": [
    {
     "data": {
      "text/plain": [
       "Ttest_indResult(statistic=-3.143871626490102, pvalue=0.01185390489308058)"
      ]
     },
     "execution_count": 131,
     "metadata": {},
     "output_type": "execute_result"
    }
   ],
   "source": [
    "stats.ttest_ind(k_by_country_cua.k, k_by_country_sincua.k)"
   ]
  },
  {
   "cell_type": "markdown",
   "metadata": {},
   "source": [
    "# Summary\n",
    "According to the result obtained in the T-test, our p-value is equal to 0.012; which is definitely lower than the standard level of significance (0.05).\n",
    "\n",
    "Then, we can reject the alternative hypothesis and affirm that $there$  $is$  $evidence$ that countries that apply measures to restrict movement in the first phase of the pandemic achieve a better result in terms of exponential growth.\n",
    "\n",
    "##### In other words, we can predict the k (infectivity) of an outbreak based on the policy that a country applies, always within the calculated confidence interval. \n"
   ]
  }
 ],
 "metadata": {
  "colab": {
   "name": "proyecto 4.ipynb",
   "provenance": []
  },
  "kernelspec": {
   "display_name": "Python 3 (ipykernel)",
   "language": "python",
   "name": "python3"
  },
  "language_info": {
   "codemirror_mode": {
    "name": "ipython",
    "version": 3
   },
   "file_extension": ".py",
   "mimetype": "text/x-python",
   "name": "python",
   "nbconvert_exporter": "python",
   "pygments_lexer": "ipython3",
   "version": "3.10.2"
  }
 },
 "nbformat": 4,
 "nbformat_minor": 1
}
